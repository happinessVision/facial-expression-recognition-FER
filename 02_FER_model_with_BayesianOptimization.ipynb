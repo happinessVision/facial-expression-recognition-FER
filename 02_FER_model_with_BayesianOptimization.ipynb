{
 "cells": [
  {
   "cell_type": "markdown",
   "id": "dcd8c7f3",
   "metadata": {},
   "source": [
    "### Устанавливаем необходимые библиотеки"
   ]
  },
  {
   "cell_type": "code",
   "execution_count": 22,
   "id": "addfe918",
   "metadata": {},
   "outputs": [],
   "source": [
    "# !pip install livelossplot\n",
    "# !pip install keras_applications --no-deps\n",
    "# !pip install -U keras-tuner\n",
    "# ! pip install gdown"
   ]
  },
  {
   "cell_type": "markdown",
   "id": "6cb9329d",
   "metadata": {},
   "source": [
    "### Импорт необходимых библиотек"
   ]
  },
  {
   "cell_type": "code",
   "execution_count": 1,
   "id": "9d85de37",
   "metadata": {},
   "outputs": [
    {
     "name": "stderr",
     "output_type": "stream",
     "text": [
      "2024-02-12 19:13:11.926496: E tensorflow/compiler/xla/stream_executor/cuda/cuda_dnn.cc:9342] Unable to register cuDNN factory: Attempting to register factory for plugin cuDNN when one has already been registered\n",
      "2024-02-12 19:13:11.926560: E tensorflow/compiler/xla/stream_executor/cuda/cuda_fft.cc:609] Unable to register cuFFT factory: Attempting to register factory for plugin cuFFT when one has already been registered\n",
      "2024-02-12 19:13:11.926612: E tensorflow/compiler/xla/stream_executor/cuda/cuda_blas.cc:1518] Unable to register cuBLAS factory: Attempting to register factory for plugin cuBLAS when one has already been registered\n",
      "2024-02-12 19:13:11.931312: I tensorflow/core/platform/cpu_feature_guard.cc:182] This TensorFlow binary is optimized to use available CPU instructions in performance-critical operations.\n",
      "To enable the following instructions: AVX2 FMA, in other operations, rebuild TensorFlow with the appropriate compiler flags.\n",
      "2024-02-12 19:13:14.086034: I tensorflow/compiler/xla/stream_executor/cuda/cuda_gpu_executor.cc:894] successful NUMA node read from SysFS had negative value (-1), but there must be at least one NUMA node, so returning NUMA node zero. See more at https://github.com/torvalds/linux/blob/v6.0/Documentation/ABI/testing/sysfs-bus-pci#L344-L355\n",
      "2024-02-12 19:13:14.089831: I tensorflow/compiler/xla/stream_executor/cuda/cuda_gpu_executor.cc:894] successful NUMA node read from SysFS had negative value (-1), but there must be at least one NUMA node, so returning NUMA node zero. See more at https://github.com/torvalds/linux/blob/v6.0/Documentation/ABI/testing/sysfs-bus-pci#L344-L355\n",
      "2024-02-12 19:13:14.089947: I tensorflow/compiler/xla/stream_executor/cuda/cuda_gpu_executor.cc:894] successful NUMA node read from SysFS had negative value (-1), but there must be at least one NUMA node, so returning NUMA node zero. See more at https://github.com/torvalds/linux/blob/v6.0/Documentation/ABI/testing/sysfs-bus-pci#L344-L355\n",
      "2024-02-12 19:13:14.090927: I tensorflow/compiler/xla/stream_executor/cuda/cuda_gpu_executor.cc:894] successful NUMA node read from SysFS had negative value (-1), but there must be at least one NUMA node, so returning NUMA node zero. See more at https://github.com/torvalds/linux/blob/v6.0/Documentation/ABI/testing/sysfs-bus-pci#L344-L355\n",
      "2024-02-12 19:13:14.091087: I tensorflow/compiler/xla/stream_executor/cuda/cuda_gpu_executor.cc:894] successful NUMA node read from SysFS had negative value (-1), but there must be at least one NUMA node, so returning NUMA node zero. See more at https://github.com/torvalds/linux/blob/v6.0/Documentation/ABI/testing/sysfs-bus-pci#L344-L355\n",
      "2024-02-12 19:13:14.091225: I tensorflow/compiler/xla/stream_executor/cuda/cuda_gpu_executor.cc:894] successful NUMA node read from SysFS had negative value (-1), but there must be at least one NUMA node, so returning NUMA node zero. See more at https://github.com/torvalds/linux/blob/v6.0/Documentation/ABI/testing/sysfs-bus-pci#L344-L355\n",
      "2024-02-12 19:13:14.149534: I tensorflow/compiler/xla/stream_executor/cuda/cuda_gpu_executor.cc:894] successful NUMA node read from SysFS had negative value (-1), but there must be at least one NUMA node, so returning NUMA node zero. See more at https://github.com/torvalds/linux/blob/v6.0/Documentation/ABI/testing/sysfs-bus-pci#L344-L355\n",
      "2024-02-12 19:13:14.149654: I tensorflow/compiler/xla/stream_executor/cuda/cuda_gpu_executor.cc:894] successful NUMA node read from SysFS had negative value (-1), but there must be at least one NUMA node, so returning NUMA node zero. See more at https://github.com/torvalds/linux/blob/v6.0/Documentation/ABI/testing/sysfs-bus-pci#L344-L355\n",
      "2024-02-12 19:13:14.149746: I tensorflow/compiler/xla/stream_executor/cuda/cuda_gpu_executor.cc:894] successful NUMA node read from SysFS had negative value (-1), but there must be at least one NUMA node, so returning NUMA node zero. See more at https://github.com/torvalds/linux/blob/v6.0/Documentation/ABI/testing/sysfs-bus-pci#L344-L355\n",
      "2024-02-12 19:13:14.149883: I tensorflow/core/common_runtime/gpu/gpu_device.cc:1886] Created device /job:localhost/replica:0/task:0/device:GPU:0 with 4507 MB memory:  -> device: 0, name: NVIDIA GeForce RTX 2060, pci bus id: 0000:01:00.0, compute capability: 7.5\n",
      "2024-02-12 19:13:18.434403: I tensorflow/tsl/platform/default/subprocess.cc:304] Start cannot spawn child process: No such file or directory\n"
     ]
    }
   ],
   "source": [
    "import os\n",
    "import numpy as np\n",
    "import tensorflow as tf\n",
    "import pandas as pd\n",
    "import gdown\n",
    "\n",
    "import keras\n",
    "\n",
    "# import keras.backend as K\n",
    "from tensorflow.keras.models import load_model\n",
    "from keras.models import Model, Sequential\n",
    "from keras.layers import Input, Activation\n",
    "from keras.preprocessing.image import ImageDataGenerator\n",
    "from keras_tuner import  Objective, BayesianOptimization\n",
    "from Builder_tools.Unit_tools import MyHyperModel, create_model\n",
    "from keras.callbacks import ModelCheckpoint\n",
    "from livelossplot.tf_keras import PlotLossesCallback\n",
    "from keras.applications import VGG16\n",
    "\n",
    "from Builder_tools.preprocess_func import preprocess_input_ResNet50, preprocess_input_VGG16"
   ]
  },
  {
   "cell_type": "code",
   "execution_count": 2,
   "id": "12810ae1",
   "metadata": {},
   "outputs": [
    {
     "name": "stderr",
     "output_type": "stream",
     "text": [
      "2024-02-03 18:58:48.087531: I tensorflow/compiler/xla/stream_executor/cuda/cuda_gpu_executor.cc:894] successful NUMA node read from SysFS had negative value (-1), but there must be at least one NUMA node, so returning NUMA node zero. See more at https://github.com/torvalds/linux/blob/v6.0/Documentation/ABI/testing/sysfs-bus-pci#L344-L355\n",
      "2024-02-03 18:58:48.121629: I tensorflow/compiler/xla/stream_executor/cuda/cuda_gpu_executor.cc:894] successful NUMA node read from SysFS had negative value (-1), but there must be at least one NUMA node, so returning NUMA node zero. See more at https://github.com/torvalds/linux/blob/v6.0/Documentation/ABI/testing/sysfs-bus-pci#L344-L355\n",
      "2024-02-03 18:58:48.122115: I tensorflow/compiler/xla/stream_executor/cuda/cuda_gpu_executor.cc:894] successful NUMA node read from SysFS had negative value (-1), but there must be at least one NUMA node, so returning NUMA node zero. See more at https://github.com/torvalds/linux/blob/v6.0/Documentation/ABI/testing/sysfs-bus-pci#L344-L355\n",
      "2024-02-03 18:58:48.186297: I tensorflow/compiler/xla/stream_executor/cuda/cuda_gpu_executor.cc:894] successful NUMA node read from SysFS had negative value (-1), but there must be at least one NUMA node, so returning NUMA node zero. See more at https://github.com/torvalds/linux/blob/v6.0/Documentation/ABI/testing/sysfs-bus-pci#L344-L355\n",
      "2024-02-03 18:58:48.186421: I tensorflow/compiler/xla/stream_executor/cuda/cuda_gpu_executor.cc:894] successful NUMA node read from SysFS had negative value (-1), but there must be at least one NUMA node, so returning NUMA node zero. See more at https://github.com/torvalds/linux/blob/v6.0/Documentation/ABI/testing/sysfs-bus-pci#L344-L355\n",
      "2024-02-03 18:58:48.186588: I tensorflow/compiler/xla/stream_executor/cuda/cuda_gpu_executor.cc:894] successful NUMA node read from SysFS had negative value (-1), but there must be at least one NUMA node, so returning NUMA node zero. See more at https://github.com/torvalds/linux/blob/v6.0/Documentation/ABI/testing/sysfs-bus-pci#L344-L355\n",
      "2024-02-03 18:58:48.186667: I tensorflow/core/common_runtime/gpu/gpu_device.cc:1886] Created device /job:localhost/replica:0/task:0/device:GPU:0 with 4734 MB memory:  -> device: 0, name: NVIDIA GeForce RTX 2060, pci bus id: 0000:01:00.0, compute capability: 7.5\n"
     ]
    }
   ],
   "source": [
    "# Настройка лимитов на память GPU (Обучаю на своей машине)\n",
    "config = tf.compat.v1.ConfigProto()\n",
    "config.gpu_options.per_process_gpu_memory_fraction = 0.8\n",
    "tf.compat.v1.keras.backend.set_session(tf.compat.v1.Session(config=config))"
   ]
  },
  {
   "cell_type": "markdown",
   "id": "524d6238",
   "metadata": {},
   "source": [
    "## Загрузка обучающего датасета "
   ]
  },
  {
   "cell_type": "code",
   "execution_count": 2,
   "id": "6339d3fe",
   "metadata": {},
   "outputs": [],
   "source": [
    "# Загрузка csv файла\n",
    "df = pd.read_csv('./new_train.csv', index_col = 0)\n",
    "\n",
    "# Разделим на обучающий и тренировочный датасеты\n",
    "train_df = df[df['train_test']== 'train'].copy()\n",
    "test_df = df[df['train_test']== 'test'].copy()"
   ]
  },
  {
   "cell_type": "markdown",
   "id": "c2a1b36e",
   "metadata": {},
   "source": [
    "## ТЕСТИРОВАНИЕ МОДЕЛЕЙ"
   ]
  },
  {
   "cell_type": "markdown",
   "id": "b79e6c93",
   "metadata": {},
   "source": [
    "### 1. Модель  VGGFace с архитектурой ResNet50"
   ]
  },
  {
   "cell_type": "markdown",
   "id": "9733a4e2",
   "metadata": {},
   "source": [
    "####  1.1. Зазгузка весов модели VGGFace архитектуры ResNet50"
   ]
  },
  {
   "cell_type": "code",
   "execution_count": 60,
   "id": "2a20b5cb",
   "metadata": {},
   "outputs": [
    {
     "name": "stderr",
     "output_type": "stream",
     "text": [
      "Downloading...\n",
      "From (original): https://drive.google.com/uc?id=1oHJxVZCcVwp1dgcwDIZL4h97uInxOGWO\n",
      "From (redirected): https://drive.google.com/uc?id=1oHJxVZCcVwp1dgcwDIZL4h97uInxOGWO&confirm=t&uuid=948e5b83-1cf3-4dae-b724-b6ffa0b5dff3\n",
      "To: /media/vision/Локальный диск/Study/Diplom_2/resnet50face.h5\n",
      "100%|████████████████████████████████████████| 166M/166M [00:19<00:00, 8.34MB/s]\n"
     ]
    },
    {
     "data": {
      "text/plain": [
       "'resnet50face.h5'"
      ]
     },
     "execution_count": 60,
     "metadata": {},
     "output_type": "execute_result"
    }
   ],
   "source": [
    "# Скачаем  модель, так как архитектура ResNet50 в реализации keras отличается от архитектуры реализованой в VGGFace\n",
    "url = 'https://drive.google.com/uc?id=1oHJxVZCcVwp1dgcwDIZL4h97uInxOGWO'\n",
    "output = 'resnet50face.h5'\n",
    "\n",
    "gdown.download(url, output, quiet=False)"
   ]
  },
  {
   "cell_type": "code",
   "execution_count": 3,
   "id": "b1713f0d",
   "metadata": {
    "scrolled": true
   },
   "outputs": [
    {
     "name": "stdout",
     "output_type": "stream",
     "text": [
      "WARNING:tensorflow:No training configuration found in the save file, so the model was *not* compiled. Compile it manually.\n",
      "Model: \"model\"\n",
      "__________________________________________________________________________________________________\n",
      " Layer (type)                Output Shape                 Param #   Connected to                  \n",
      "==================================================================================================\n",
      " input_1 (InputLayer)        [(None, 224, 224, 3)]        0         []                            \n",
      "                                                                                                  \n",
      " conv1/7x7_s2 (Conv2D)       (None, 112, 112, 64)         9408      ['input_1[0][0]']             \n",
      "                                                                                                  \n",
      " conv1/7x7_s2/bn (BatchNorm  (None, 112, 112, 64)         256       ['conv1/7x7_s2[0][0]']        \n",
      " alization)                                                                                       \n",
      "                                                                                                  \n",
      " activation_1 (Activation)   (None, 112, 112, 64)         0         ['conv1/7x7_s2/bn[0][0]']     \n",
      "                                                                                                  \n",
      " max_pooling2d_1 (MaxPoolin  (None, 55, 55, 64)           0         ['activation_1[0][0]']        \n",
      " g2D)                                                                                             \n",
      "                                                                                                  \n",
      " conv2_1_1x1_reduce (Conv2D  (None, 55, 55, 64)           4096      ['max_pooling2d_1[0][0]']     \n",
      " )                                                                                                \n",
      "                                                                                                  \n",
      " conv2_1_1x1_reduce/bn (Bat  (None, 55, 55, 64)           256       ['conv2_1_1x1_reduce[0][0]']  \n",
      " chNormalization)                                                                                 \n",
      "                                                                                                  \n",
      " activation_2 (Activation)   (None, 55, 55, 64)           0         ['conv2_1_1x1_reduce/bn[0][0]'\n",
      "                                                                    ]                             \n",
      "                                                                                                  \n",
      " conv2_1_3x3 (Conv2D)        (None, 55, 55, 64)           36864     ['activation_2[0][0]']        \n",
      "                                                                                                  \n",
      " conv2_1_3x3/bn (BatchNorma  (None, 55, 55, 64)           256       ['conv2_1_3x3[0][0]']         \n",
      " lization)                                                                                        \n",
      "                                                                                                  \n",
      " activation_3 (Activation)   (None, 55, 55, 64)           0         ['conv2_1_3x3/bn[0][0]']      \n",
      "                                                                                                  \n",
      " conv2_1_1x1_increase (Conv  (None, 55, 55, 256)          16384     ['activation_3[0][0]']        \n",
      " 2D)                                                                                              \n",
      "                                                                                                  \n",
      " conv2_1_1x1_proj (Conv2D)   (None, 55, 55, 256)          16384     ['max_pooling2d_1[0][0]']     \n",
      "                                                                                                  \n",
      " conv2_1_1x1_increase/bn (B  (None, 55, 55, 256)          1024      ['conv2_1_1x1_increase[0][0]']\n",
      " atchNormalization)                                                                               \n",
      "                                                                                                  \n",
      " conv2_1_1x1_proj/bn (Batch  (None, 55, 55, 256)          1024      ['conv2_1_1x1_proj[0][0]']    \n",
      " Normalization)                                                                                   \n",
      "                                                                                                  \n",
      " add_1 (Add)                 (None, 55, 55, 256)          0         ['conv2_1_1x1_increase/bn[0][0\n",
      "                                                                    ]',                           \n",
      "                                                                     'conv2_1_1x1_proj/bn[0][0]'] \n",
      "                                                                                                  \n",
      " activation_4 (Activation)   (None, 55, 55, 256)          0         ['add_1[0][0]']               \n",
      "                                                                                                  \n",
      " conv2_2_1x1_reduce (Conv2D  (None, 55, 55, 64)           16384     ['activation_4[0][0]']        \n",
      " )                                                                                                \n",
      "                                                                                                  \n",
      " conv2_2_1x1_reduce/bn (Bat  (None, 55, 55, 64)           256       ['conv2_2_1x1_reduce[0][0]']  \n",
      " chNormalization)                                                                                 \n",
      "                                                                                                  \n",
      " activation_5 (Activation)   (None, 55, 55, 64)           0         ['conv2_2_1x1_reduce/bn[0][0]'\n",
      "                                                                    ]                             \n",
      "                                                                                                  \n",
      " conv2_2_3x3 (Conv2D)        (None, 55, 55, 64)           36864     ['activation_5[0][0]']        \n",
      "                                                                                                  \n",
      " conv2_2_3x3/bn (BatchNorma  (None, 55, 55, 64)           256       ['conv2_2_3x3[0][0]']         \n",
      " lization)                                                                                        \n",
      "                                                                                                  \n",
      " activation_6 (Activation)   (None, 55, 55, 64)           0         ['conv2_2_3x3/bn[0][0]']      \n",
      "                                                                                                  \n",
      " conv2_2_1x1_increase (Conv  (None, 55, 55, 256)          16384     ['activation_6[0][0]']        \n",
      " 2D)                                                                                              \n",
      "                                                                                                  \n",
      " conv2_2_1x1_increase/bn (B  (None, 55, 55, 256)          1024      ['conv2_2_1x1_increase[0][0]']\n",
      " atchNormalization)                                                                               \n",
      "                                                                                                  \n",
      " add_2 (Add)                 (None, 55, 55, 256)          0         ['conv2_2_1x1_increase/bn[0][0\n",
      "                                                                    ]',                           \n",
      "                                                                     'activation_4[0][0]']        \n",
      "                                                                                                  \n",
      " activation_7 (Activation)   (None, 55, 55, 256)          0         ['add_2[0][0]']               \n",
      "                                                                                                  \n",
      " conv2_3_1x1_reduce (Conv2D  (None, 55, 55, 64)           16384     ['activation_7[0][0]']        \n",
      " )                                                                                                \n",
      "                                                                                                  \n",
      " conv2_3_1x1_reduce/bn (Bat  (None, 55, 55, 64)           256       ['conv2_3_1x1_reduce[0][0]']  \n",
      " chNormalization)                                                                                 \n",
      "                                                                                                  \n"
     ]
    },
    {
     "name": "stdout",
     "output_type": "stream",
     "text": [
      " activation_8 (Activation)   (None, 55, 55, 64)           0         ['conv2_3_1x1_reduce/bn[0][0]'\n",
      "                                                                    ]                             \n",
      "                                                                                                  \n",
      " conv2_3_3x3 (Conv2D)        (None, 55, 55, 64)           36864     ['activation_8[0][0]']        \n",
      "                                                                                                  \n",
      " conv2_3_3x3/bn (BatchNorma  (None, 55, 55, 64)           256       ['conv2_3_3x3[0][0]']         \n",
      " lization)                                                                                        \n",
      "                                                                                                  \n",
      " activation_9 (Activation)   (None, 55, 55, 64)           0         ['conv2_3_3x3/bn[0][0]']      \n",
      "                                                                                                  \n",
      " conv2_3_1x1_increase (Conv  (None, 55, 55, 256)          16384     ['activation_9[0][0]']        \n",
      " 2D)                                                                                              \n",
      "                                                                                                  \n",
      " conv2_3_1x1_increase/bn (B  (None, 55, 55, 256)          1024      ['conv2_3_1x1_increase[0][0]']\n",
      " atchNormalization)                                                                               \n",
      "                                                                                                  \n",
      " add_3 (Add)                 (None, 55, 55, 256)          0         ['conv2_3_1x1_increase/bn[0][0\n",
      "                                                                    ]',                           \n",
      "                                                                     'activation_7[0][0]']        \n",
      "                                                                                                  \n",
      " activation_10 (Activation)  (None, 55, 55, 256)          0         ['add_3[0][0]']               \n",
      "                                                                                                  \n",
      " conv3_1_1x1_reduce (Conv2D  (None, 28, 28, 128)          32768     ['activation_10[0][0]']       \n",
      " )                                                                                                \n",
      "                                                                                                  \n",
      " conv3_1_1x1_reduce/bn (Bat  (None, 28, 28, 128)          512       ['conv3_1_1x1_reduce[0][0]']  \n",
      " chNormalization)                                                                                 \n",
      "                                                                                                  \n",
      " activation_11 (Activation)  (None, 28, 28, 128)          0         ['conv3_1_1x1_reduce/bn[0][0]'\n",
      "                                                                    ]                             \n",
      "                                                                                                  \n",
      " conv3_1_3x3 (Conv2D)        (None, 28, 28, 128)          147456    ['activation_11[0][0]']       \n",
      "                                                                                                  \n",
      " conv3_1_3x3/bn (BatchNorma  (None, 28, 28, 128)          512       ['conv3_1_3x3[0][0]']         \n",
      " lization)                                                                                        \n",
      "                                                                                                  \n",
      " activation_12 (Activation)  (None, 28, 28, 128)          0         ['conv3_1_3x3/bn[0][0]']      \n",
      "                                                                                                  \n",
      " conv3_1_1x1_increase (Conv  (None, 28, 28, 512)          65536     ['activation_12[0][0]']       \n",
      " 2D)                                                                                              \n",
      "                                                                                                  \n",
      " conv3_1_1x1_proj (Conv2D)   (None, 28, 28, 512)          131072    ['activation_10[0][0]']       \n",
      "                                                                                                  \n",
      " conv3_1_1x1_increase/bn (B  (None, 28, 28, 512)          2048      ['conv3_1_1x1_increase[0][0]']\n",
      " atchNormalization)                                                                               \n",
      "                                                                                                  \n",
      " conv3_1_1x1_proj/bn (Batch  (None, 28, 28, 512)          2048      ['conv3_1_1x1_proj[0][0]']    \n",
      " Normalization)                                                                                   \n",
      "                                                                                                  \n",
      " add_4 (Add)                 (None, 28, 28, 512)          0         ['conv3_1_1x1_increase/bn[0][0\n",
      "                                                                    ]',                           \n",
      "                                                                     'conv3_1_1x1_proj/bn[0][0]'] \n",
      "                                                                                                  \n",
      " activation_13 (Activation)  (None, 28, 28, 512)          0         ['add_4[0][0]']               \n",
      "                                                                                                  \n",
      " conv3_2_1x1_reduce (Conv2D  (None, 28, 28, 128)          65536     ['activation_13[0][0]']       \n",
      " )                                                                                                \n",
      "                                                                                                  \n",
      " conv3_2_1x1_reduce/bn (Bat  (None, 28, 28, 128)          512       ['conv3_2_1x1_reduce[0][0]']  \n",
      " chNormalization)                                                                                 \n",
      "                                                                                                  \n",
      " activation_14 (Activation)  (None, 28, 28, 128)          0         ['conv3_2_1x1_reduce/bn[0][0]'\n",
      "                                                                    ]                             \n",
      "                                                                                                  \n",
      " conv3_2_3x3 (Conv2D)        (None, 28, 28, 128)          147456    ['activation_14[0][0]']       \n",
      "                                                                                                  \n",
      " conv3_2_3x3/bn (BatchNorma  (None, 28, 28, 128)          512       ['conv3_2_3x3[0][0]']         \n",
      " lization)                                                                                        \n",
      "                                                                                                  \n",
      " activation_15 (Activation)  (None, 28, 28, 128)          0         ['conv3_2_3x3/bn[0][0]']      \n",
      "                                                                                                  \n",
      " conv3_2_1x1_increase (Conv  (None, 28, 28, 512)          65536     ['activation_15[0][0]']       \n",
      " 2D)                                                                                              \n",
      "                                                                                                  \n",
      " conv3_2_1x1_increase/bn (B  (None, 28, 28, 512)          2048      ['conv3_2_1x1_increase[0][0]']\n",
      " atchNormalization)                                                                               \n",
      "                                                                                                  \n",
      " add_5 (Add)                 (None, 28, 28, 512)          0         ['conv3_2_1x1_increase/bn[0][0\n",
      "                                                                    ]',                           \n",
      "                                                                     'activation_13[0][0]']       \n",
      "                                                                                                  \n",
      " activation_16 (Activation)  (None, 28, 28, 512)          0         ['add_5[0][0]']               \n",
      "                                                                                                  \n"
     ]
    },
    {
     "name": "stdout",
     "output_type": "stream",
     "text": [
      " conv3_3_1x1_reduce (Conv2D  (None, 28, 28, 128)          65536     ['activation_16[0][0]']       \n",
      " )                                                                                                \n",
      "                                                                                                  \n",
      " conv3_3_1x1_reduce/bn (Bat  (None, 28, 28, 128)          512       ['conv3_3_1x1_reduce[0][0]']  \n",
      " chNormalization)                                                                                 \n",
      "                                                                                                  \n",
      " activation_17 (Activation)  (None, 28, 28, 128)          0         ['conv3_3_1x1_reduce/bn[0][0]'\n",
      "                                                                    ]                             \n",
      "                                                                                                  \n",
      " conv3_3_3x3 (Conv2D)        (None, 28, 28, 128)          147456    ['activation_17[0][0]']       \n",
      "                                                                                                  \n",
      " conv3_3_3x3/bn (BatchNorma  (None, 28, 28, 128)          512       ['conv3_3_3x3[0][0]']         \n",
      " lization)                                                                                        \n",
      "                                                                                                  \n",
      " activation_18 (Activation)  (None, 28, 28, 128)          0         ['conv3_3_3x3/bn[0][0]']      \n",
      "                                                                                                  \n",
      " conv3_3_1x1_increase (Conv  (None, 28, 28, 512)          65536     ['activation_18[0][0]']       \n",
      " 2D)                                                                                              \n",
      "                                                                                                  \n",
      " conv3_3_1x1_increase/bn (B  (None, 28, 28, 512)          2048      ['conv3_3_1x1_increase[0][0]']\n",
      " atchNormalization)                                                                               \n",
      "                                                                                                  \n",
      " add_6 (Add)                 (None, 28, 28, 512)          0         ['conv3_3_1x1_increase/bn[0][0\n",
      "                                                                    ]',                           \n",
      "                                                                     'activation_16[0][0]']       \n",
      "                                                                                                  \n",
      " activation_19 (Activation)  (None, 28, 28, 512)          0         ['add_6[0][0]']               \n",
      "                                                                                                  \n",
      " conv3_4_1x1_reduce (Conv2D  (None, 28, 28, 128)          65536     ['activation_19[0][0]']       \n",
      " )                                                                                                \n",
      "                                                                                                  \n",
      " conv3_4_1x1_reduce/bn (Bat  (None, 28, 28, 128)          512       ['conv3_4_1x1_reduce[0][0]']  \n",
      " chNormalization)                                                                                 \n",
      "                                                                                                  \n",
      " activation_20 (Activation)  (None, 28, 28, 128)          0         ['conv3_4_1x1_reduce/bn[0][0]'\n",
      "                                                                    ]                             \n",
      "                                                                                                  \n",
      " conv3_4_3x3 (Conv2D)        (None, 28, 28, 128)          147456    ['activation_20[0][0]']       \n",
      "                                                                                                  \n",
      " conv3_4_3x3/bn (BatchNorma  (None, 28, 28, 128)          512       ['conv3_4_3x3[0][0]']         \n",
      " lization)                                                                                        \n",
      "                                                                                                  \n",
      " activation_21 (Activation)  (None, 28, 28, 128)          0         ['conv3_4_3x3/bn[0][0]']      \n",
      "                                                                                                  \n",
      " conv3_4_1x1_increase (Conv  (None, 28, 28, 512)          65536     ['activation_21[0][0]']       \n",
      " 2D)                                                                                              \n",
      "                                                                                                  \n",
      " conv3_4_1x1_increase/bn (B  (None, 28, 28, 512)          2048      ['conv3_4_1x1_increase[0][0]']\n",
      " atchNormalization)                                                                               \n",
      "                                                                                                  \n",
      " add_7 (Add)                 (None, 28, 28, 512)          0         ['conv3_4_1x1_increase/bn[0][0\n",
      "                                                                    ]',                           \n",
      "                                                                     'activation_19[0][0]']       \n",
      "                                                                                                  \n",
      " activation_22 (Activation)  (None, 28, 28, 512)          0         ['add_7[0][0]']               \n",
      "                                                                                                  \n",
      " conv4_1_1x1_reduce (Conv2D  (None, 14, 14, 256)          131072    ['activation_22[0][0]']       \n",
      " )                                                                                                \n",
      "                                                                                                  \n",
      " conv4_1_1x1_reduce/bn (Bat  (None, 14, 14, 256)          1024      ['conv4_1_1x1_reduce[0][0]']  \n",
      " chNormalization)                                                                                 \n",
      "                                                                                                  \n",
      " activation_23 (Activation)  (None, 14, 14, 256)          0         ['conv4_1_1x1_reduce/bn[0][0]'\n",
      "                                                                    ]                             \n",
      "                                                                                                  \n",
      " conv4_1_3x3 (Conv2D)        (None, 14, 14, 256)          589824    ['activation_23[0][0]']       \n",
      "                                                                                                  \n",
      " conv4_1_3x3/bn (BatchNorma  (None, 14, 14, 256)          1024      ['conv4_1_3x3[0][0]']         \n",
      " lization)                                                                                        \n",
      "                                                                                                  \n",
      " activation_24 (Activation)  (None, 14, 14, 256)          0         ['conv4_1_3x3/bn[0][0]']      \n",
      "                                                                                                  \n",
      " conv4_1_1x1_increase (Conv  (None, 14, 14, 1024)         262144    ['activation_24[0][0]']       \n",
      " 2D)                                                                                              \n",
      "                                                                                                  \n",
      " conv4_1_1x1_proj (Conv2D)   (None, 14, 14, 1024)         524288    ['activation_22[0][0]']       \n",
      "                                                                                                  \n",
      " conv4_1_1x1_increase/bn (B  (None, 14, 14, 1024)         4096      ['conv4_1_1x1_increase[0][0]']\n",
      " atchNormalization)                                                                               \n",
      "                                                                                                  \n",
      " conv4_1_1x1_proj/bn (Batch  (None, 14, 14, 1024)         4096      ['conv4_1_1x1_proj[0][0]']    \n",
      " Normalization)                                                                                   \n",
      "                                                                                                  \n"
     ]
    },
    {
     "name": "stdout",
     "output_type": "stream",
     "text": [
      " add_8 (Add)                 (None, 14, 14, 1024)         0         ['conv4_1_1x1_increase/bn[0][0\n",
      "                                                                    ]',                           \n",
      "                                                                     'conv4_1_1x1_proj/bn[0][0]'] \n",
      "                                                                                                  \n",
      " activation_25 (Activation)  (None, 14, 14, 1024)         0         ['add_8[0][0]']               \n",
      "                                                                                                  \n",
      " conv4_2_1x1_reduce (Conv2D  (None, 14, 14, 256)          262144    ['activation_25[0][0]']       \n",
      " )                                                                                                \n",
      "                                                                                                  \n",
      " conv4_2_1x1_reduce/bn (Bat  (None, 14, 14, 256)          1024      ['conv4_2_1x1_reduce[0][0]']  \n",
      " chNormalization)                                                                                 \n",
      "                                                                                                  \n",
      " activation_26 (Activation)  (None, 14, 14, 256)          0         ['conv4_2_1x1_reduce/bn[0][0]'\n",
      "                                                                    ]                             \n",
      "                                                                                                  \n",
      " conv4_2_3x3 (Conv2D)        (None, 14, 14, 256)          589824    ['activation_26[0][0]']       \n",
      "                                                                                                  \n",
      " conv4_2_3x3/bn (BatchNorma  (None, 14, 14, 256)          1024      ['conv4_2_3x3[0][0]']         \n",
      " lization)                                                                                        \n",
      "                                                                                                  \n",
      " activation_27 (Activation)  (None, 14, 14, 256)          0         ['conv4_2_3x3/bn[0][0]']      \n",
      "                                                                                                  \n",
      " conv4_2_1x1_increase (Conv  (None, 14, 14, 1024)         262144    ['activation_27[0][0]']       \n",
      " 2D)                                                                                              \n",
      "                                                                                                  \n",
      " conv4_2_1x1_increase/bn (B  (None, 14, 14, 1024)         4096      ['conv4_2_1x1_increase[0][0]']\n",
      " atchNormalization)                                                                               \n",
      "                                                                                                  \n",
      " add_9 (Add)                 (None, 14, 14, 1024)         0         ['conv4_2_1x1_increase/bn[0][0\n",
      "                                                                    ]',                           \n",
      "                                                                     'activation_25[0][0]']       \n",
      "                                                                                                  \n",
      " activation_28 (Activation)  (None, 14, 14, 1024)         0         ['add_9[0][0]']               \n",
      "                                                                                                  \n",
      " conv4_3_1x1_reduce (Conv2D  (None, 14, 14, 256)          262144    ['activation_28[0][0]']       \n",
      " )                                                                                                \n",
      "                                                                                                  \n",
      " conv4_3_1x1_reduce/bn (Bat  (None, 14, 14, 256)          1024      ['conv4_3_1x1_reduce[0][0]']  \n",
      " chNormalization)                                                                                 \n",
      "                                                                                                  \n",
      " activation_29 (Activation)  (None, 14, 14, 256)          0         ['conv4_3_1x1_reduce/bn[0][0]'\n",
      "                                                                    ]                             \n",
      "                                                                                                  \n",
      " conv4_3_3x3 (Conv2D)        (None, 14, 14, 256)          589824    ['activation_29[0][0]']       \n",
      "                                                                                                  \n",
      " conv4_3_3x3/bn (BatchNorma  (None, 14, 14, 256)          1024      ['conv4_3_3x3[0][0]']         \n",
      " lization)                                                                                        \n",
      "                                                                                                  \n",
      " activation_30 (Activation)  (None, 14, 14, 256)          0         ['conv4_3_3x3/bn[0][0]']      \n",
      "                                                                                                  \n",
      " conv4_3_1x1_increase (Conv  (None, 14, 14, 1024)         262144    ['activation_30[0][0]']       \n",
      " 2D)                                                                                              \n",
      "                                                                                                  \n",
      " conv4_3_1x1_increase/bn (B  (None, 14, 14, 1024)         4096      ['conv4_3_1x1_increase[0][0]']\n",
      " atchNormalization)                                                                               \n",
      "                                                                                                  \n",
      " add_10 (Add)                (None, 14, 14, 1024)         0         ['conv4_3_1x1_increase/bn[0][0\n",
      "                                                                    ]',                           \n",
      "                                                                     'activation_28[0][0]']       \n",
      "                                                                                                  \n",
      " activation_31 (Activation)  (None, 14, 14, 1024)         0         ['add_10[0][0]']              \n",
      "                                                                                                  \n",
      " conv4_4_1x1_reduce (Conv2D  (None, 14, 14, 256)          262144    ['activation_31[0][0]']       \n",
      " )                                                                                                \n",
      "                                                                                                  \n",
      " conv4_4_1x1_reduce/bn (Bat  (None, 14, 14, 256)          1024      ['conv4_4_1x1_reduce[0][0]']  \n",
      " chNormalization)                                                                                 \n",
      "                                                                                                  \n",
      " activation_32 (Activation)  (None, 14, 14, 256)          0         ['conv4_4_1x1_reduce/bn[0][0]'\n",
      "                                                                    ]                             \n",
      "                                                                                                  \n",
      " conv4_4_3x3 (Conv2D)        (None, 14, 14, 256)          589824    ['activation_32[0][0]']       \n",
      "                                                                                                  \n",
      " conv4_4_3x3/bn (BatchNorma  (None, 14, 14, 256)          1024      ['conv4_4_3x3[0][0]']         \n",
      " lization)                                                                                        \n",
      "                                                                                                  \n",
      " activation_33 (Activation)  (None, 14, 14, 256)          0         ['conv4_4_3x3/bn[0][0]']      \n",
      "                                                                                                  \n",
      " conv4_4_1x1_increase (Conv  (None, 14, 14, 1024)         262144    ['activation_33[0][0]']       \n",
      " 2D)                                                                                              \n",
      "                                                                                                  \n",
      " conv4_4_1x1_increase/bn (B  (None, 14, 14, 1024)         4096      ['conv4_4_1x1_increase[0][0]']\n",
      " atchNormalization)                                                                               \n"
     ]
    },
    {
     "name": "stdout",
     "output_type": "stream",
     "text": [
      "                                                                                                  \n",
      " add_11 (Add)                (None, 14, 14, 1024)         0         ['conv4_4_1x1_increase/bn[0][0\n",
      "                                                                    ]',                           \n",
      "                                                                     'activation_31[0][0]']       \n",
      "                                                                                                  \n",
      " activation_34 (Activation)  (None, 14, 14, 1024)         0         ['add_11[0][0]']              \n",
      "                                                                                                  \n",
      " conv4_5_1x1_reduce (Conv2D  (None, 14, 14, 256)          262144    ['activation_34[0][0]']       \n",
      " )                                                                                                \n",
      "                                                                                                  \n",
      " conv4_5_1x1_reduce/bn (Bat  (None, 14, 14, 256)          1024      ['conv4_5_1x1_reduce[0][0]']  \n",
      " chNormalization)                                                                                 \n",
      "                                                                                                  \n",
      " activation_35 (Activation)  (None, 14, 14, 256)          0         ['conv4_5_1x1_reduce/bn[0][0]'\n",
      "                                                                    ]                             \n",
      "                                                                                                  \n",
      " conv4_5_3x3 (Conv2D)        (None, 14, 14, 256)          589824    ['activation_35[0][0]']       \n",
      "                                                                                                  \n",
      " conv4_5_3x3/bn (BatchNorma  (None, 14, 14, 256)          1024      ['conv4_5_3x3[0][0]']         \n",
      " lization)                                                                                        \n",
      "                                                                                                  \n",
      " activation_36 (Activation)  (None, 14, 14, 256)          0         ['conv4_5_3x3/bn[0][0]']      \n",
      "                                                                                                  \n",
      " conv4_5_1x1_increase (Conv  (None, 14, 14, 1024)         262144    ['activation_36[0][0]']       \n",
      " 2D)                                                                                              \n",
      "                                                                                                  \n",
      " conv4_5_1x1_increase/bn (B  (None, 14, 14, 1024)         4096      ['conv4_5_1x1_increase[0][0]']\n",
      " atchNormalization)                                                                               \n",
      "                                                                                                  \n",
      " add_12 (Add)                (None, 14, 14, 1024)         0         ['conv4_5_1x1_increase/bn[0][0\n",
      "                                                                    ]',                           \n",
      "                                                                     'activation_34[0][0]']       \n",
      "                                                                                                  \n",
      " activation_37 (Activation)  (None, 14, 14, 1024)         0         ['add_12[0][0]']              \n",
      "                                                                                                  \n",
      " conv4_6_1x1_reduce (Conv2D  (None, 14, 14, 256)          262144    ['activation_37[0][0]']       \n",
      " )                                                                                                \n",
      "                                                                                                  \n",
      " conv4_6_1x1_reduce/bn (Bat  (None, 14, 14, 256)          1024      ['conv4_6_1x1_reduce[0][0]']  \n",
      " chNormalization)                                                                                 \n",
      "                                                                                                  \n",
      " activation_38 (Activation)  (None, 14, 14, 256)          0         ['conv4_6_1x1_reduce/bn[0][0]'\n",
      "                                                                    ]                             \n",
      "                                                                                                  \n",
      " conv4_6_3x3 (Conv2D)        (None, 14, 14, 256)          589824    ['activation_38[0][0]']       \n",
      "                                                                                                  \n",
      " conv4_6_3x3/bn (BatchNorma  (None, 14, 14, 256)          1024      ['conv4_6_3x3[0][0]']         \n",
      " lization)                                                                                        \n",
      "                                                                                                  \n",
      " activation_39 (Activation)  (None, 14, 14, 256)          0         ['conv4_6_3x3/bn[0][0]']      \n",
      "                                                                                                  \n",
      " conv4_6_1x1_increase (Conv  (None, 14, 14, 1024)         262144    ['activation_39[0][0]']       \n",
      " 2D)                                                                                              \n",
      "                                                                                                  \n",
      " conv4_6_1x1_increase/bn (B  (None, 14, 14, 1024)         4096      ['conv4_6_1x1_increase[0][0]']\n",
      " atchNormalization)                                                                               \n",
      "                                                                                                  \n",
      " add_13 (Add)                (None, 14, 14, 1024)         0         ['conv4_6_1x1_increase/bn[0][0\n",
      "                                                                    ]',                           \n",
      "                                                                     'activation_37[0][0]']       \n",
      "                                                                                                  \n",
      " activation_40 (Activation)  (None, 14, 14, 1024)         0         ['add_13[0][0]']              \n",
      "                                                                                                  \n",
      " conv5_1_1x1_reduce (Conv2D  (None, 7, 7, 512)            524288    ['activation_40[0][0]']       \n",
      " )                                                                                                \n",
      "                                                                                                  \n",
      " conv5_1_1x1_reduce/bn (Bat  (None, 7, 7, 512)            2048      ['conv5_1_1x1_reduce[0][0]']  \n",
      " chNormalization)                                                                                 \n",
      "                                                                                                  \n",
      " activation_41 (Activation)  (None, 7, 7, 512)            0         ['conv5_1_1x1_reduce/bn[0][0]'\n",
      "                                                                    ]                             \n",
      "                                                                                                  \n",
      " conv5_1_3x3 (Conv2D)        (None, 7, 7, 512)            2359296   ['activation_41[0][0]']       \n",
      "                                                                                                  \n",
      " conv5_1_3x3/bn (BatchNorma  (None, 7, 7, 512)            2048      ['conv5_1_3x3[0][0]']         \n",
      " lization)                                                                                        \n",
      "                                                                                                  \n",
      " activation_42 (Activation)  (None, 7, 7, 512)            0         ['conv5_1_3x3/bn[0][0]']      \n",
      "                                                                                                  \n",
      " conv5_1_1x1_increase (Conv  (None, 7, 7, 2048)           1048576   ['activation_42[0][0]']       \n",
      " 2D)                                                                                              \n",
      "                                                                                                  \n",
      " conv5_1_1x1_proj (Conv2D)   (None, 7, 7, 2048)           2097152   ['activation_40[0][0]']       \n"
     ]
    },
    {
     "name": "stdout",
     "output_type": "stream",
     "text": [
      "                                                                                                  \n",
      " conv5_1_1x1_increase/bn (B  (None, 7, 7, 2048)           8192      ['conv5_1_1x1_increase[0][0]']\n",
      " atchNormalization)                                                                               \n",
      "                                                                                                  \n",
      " conv5_1_1x1_proj/bn (Batch  (None, 7, 7, 2048)           8192      ['conv5_1_1x1_proj[0][0]']    \n",
      " Normalization)                                                                                   \n",
      "                                                                                                  \n",
      " add_14 (Add)                (None, 7, 7, 2048)           0         ['conv5_1_1x1_increase/bn[0][0\n",
      "                                                                    ]',                           \n",
      "                                                                     'conv5_1_1x1_proj/bn[0][0]'] \n",
      "                                                                                                  \n",
      " activation_43 (Activation)  (None, 7, 7, 2048)           0         ['add_14[0][0]']              \n",
      "                                                                                                  \n",
      " conv5_2_1x1_reduce (Conv2D  (None, 7, 7, 512)            1048576   ['activation_43[0][0]']       \n",
      " )                                                                                                \n",
      "                                                                                                  \n",
      " conv5_2_1x1_reduce/bn (Bat  (None, 7, 7, 512)            2048      ['conv5_2_1x1_reduce[0][0]']  \n",
      " chNormalization)                                                                                 \n",
      "                                                                                                  \n",
      " activation_44 (Activation)  (None, 7, 7, 512)            0         ['conv5_2_1x1_reduce/bn[0][0]'\n",
      "                                                                    ]                             \n",
      "                                                                                                  \n",
      " conv5_2_3x3 (Conv2D)        (None, 7, 7, 512)            2359296   ['activation_44[0][0]']       \n",
      "                                                                                                  \n",
      " conv5_2_3x3/bn (BatchNorma  (None, 7, 7, 512)            2048      ['conv5_2_3x3[0][0]']         \n",
      " lization)                                                                                        \n",
      "                                                                                                  \n",
      " activation_45 (Activation)  (None, 7, 7, 512)            0         ['conv5_2_3x3/bn[0][0]']      \n",
      "                                                                                                  \n",
      " conv5_2_1x1_increase (Conv  (None, 7, 7, 2048)           1048576   ['activation_45[0][0]']       \n",
      " 2D)                                                                                              \n",
      "                                                                                                  \n",
      " conv5_2_1x1_increase/bn (B  (None, 7, 7, 2048)           8192      ['conv5_2_1x1_increase[0][0]']\n",
      " atchNormalization)                                                                               \n",
      "                                                                                                  \n",
      " add_15 (Add)                (None, 7, 7, 2048)           0         ['conv5_2_1x1_increase/bn[0][0\n",
      "                                                                    ]',                           \n",
      "                                                                     'activation_43[0][0]']       \n",
      "                                                                                                  \n",
      " activation_46 (Activation)  (None, 7, 7, 2048)           0         ['add_15[0][0]']              \n",
      "                                                                                                  \n",
      " conv5_3_1x1_reduce (Conv2D  (None, 7, 7, 512)            1048576   ['activation_46[0][0]']       \n",
      " )                                                                                                \n",
      "                                                                                                  \n",
      " conv5_3_1x1_reduce/bn (Bat  (None, 7, 7, 512)            2048      ['conv5_3_1x1_reduce[0][0]']  \n",
      " chNormalization)                                                                                 \n",
      "                                                                                                  \n",
      " activation_47 (Activation)  (None, 7, 7, 512)            0         ['conv5_3_1x1_reduce/bn[0][0]'\n",
      "                                                                    ]                             \n",
      "                                                                                                  \n",
      " conv5_3_3x3 (Conv2D)        (None, 7, 7, 512)            2359296   ['activation_47[0][0]']       \n",
      "                                                                                                  \n",
      " conv5_3_3x3/bn (BatchNorma  (None, 7, 7, 512)            2048      ['conv5_3_3x3[0][0]']         \n",
      " lization)                                                                                        \n",
      "                                                                                                  \n",
      " activation_48 (Activation)  (None, 7, 7, 512)            0         ['conv5_3_3x3/bn[0][0]']      \n",
      "                                                                                                  \n",
      " conv5_3_1x1_increase (Conv  (None, 7, 7, 2048)           1048576   ['activation_48[0][0]']       \n",
      " 2D)                                                                                              \n",
      "                                                                                                  \n",
      " conv5_3_1x1_increase/bn (B  (None, 7, 7, 2048)           8192      ['conv5_3_1x1_increase[0][0]']\n",
      " atchNormalization)                                                                               \n",
      "                                                                                                  \n",
      " add_16 (Add)                (None, 7, 7, 2048)           0         ['conv5_3_1x1_increase/bn[0][0\n",
      "                                                                    ]',                           \n",
      "                                                                     'activation_46[0][0]']       \n",
      "                                                                                                  \n",
      " activation_49 (Activation)  (None, 7, 7, 2048)           0         ['add_16[0][0]']              \n",
      "                                                                                                  \n",
      " avg_pool (AveragePooling2D  (None, 1, 1, 2048)           0         ['activation_49[0][0]']       \n",
      " )                                                                                                \n",
      "                                                                                                  \n",
      "==================================================================================================\n",
      "Total params: 23561152 (89.88 MB)\n",
      "Trainable params: 0 (0.00 Byte)\n",
      "Non-trainable params: 23561152 (89.88 MB)\n",
      "__________________________________________________________________________________________________\n"
     ]
    }
   ],
   "source": [
    "# Загружаем модель\n",
    "vggfaceResNet50_load = load_model(\"resnet50face.h5\")\n",
    "# Так как модель загрузилась с последними слоями, мы устанавливаем вручную входы и выходы из нее\n",
    "vggfaceResNet50 = Model(inputs=vggfaceResNet50_load.inputs, outputs=vggfaceResNet50_load.layers[-3].output)\n",
    "\n",
    "# Удаляем загруженную модель\n",
    "del vggfaceResNet50_load\n",
    "# Замораживаем все веса\n",
    "vggfaceResNet50.trainable = False\n",
    "vggfaceResNet50.summary()\n"
   ]
  },
  {
   "cell_type": "markdown",
   "id": "c85da1ce",
   "metadata": {},
   "source": [
    "####  1.2. Создание генераторов для обучающих и тестовых данных"
   ]
  },
  {
   "cell_type": "code",
   "execution_count": 4,
   "id": "e3c7b9a8",
   "metadata": {},
   "outputs": [
    {
     "name": "stdout",
     "output_type": "stream",
     "text": [
      "Found 45813 validated image filenames belonging to 9 classes.\n",
      "Found 8100 validated image filenames belonging to 9 classes.\n"
     ]
    }
   ],
   "source": [
    "BATCH_SIZE = 14\n",
    "IMAGE_SIZE = 224\n",
    "\n",
    "\n",
    "# Функция препроцессинга на вход тензор размера (1, H, W, 3) + аугментации\n",
    "train_generator = ImageDataGenerator(rotation_range=15,\n",
    "                                     horizontal_flip=True,\n",
    "                                     fill_mode='nearest',\n",
    "                                     brightness_range=(0.5,1.5),\n",
    "                                     shear_range=0.1,\n",
    "                                     zoom_range=.1,\n",
    "                                     preprocessing_function=preprocess_input_ResNet50 # Препроцессинг для ResNet50\n",
    "                                    ) \n",
    "\n",
    "# train generator\n",
    "train_data_gen = train_generator.flow_from_dataframe(dataframe=train_df,\n",
    "                                                     x_col='path',\n",
    "                                                     y_col='category',\n",
    "                                                     target_size=(IMAGE_SIZE, IMAGE_SIZE),\n",
    "                                                     batch_size=BATCH_SIZE,\n",
    "                                                     class_mode='sparse',\n",
    "                                                     shuffle=True,\n",
    "                                                     interpolation='nearest'\n",
    "                                                    )\n",
    "\n",
    "# validation generator\n",
    "val_generator = ImageDataGenerator(preprocessing_function=preprocess_input_ResNet50)\n",
    "\n",
    "val_data_gen = val_generator.flow_from_dataframe(dataframe=test_df,\n",
    "                                                 x_col='path',\n",
    "                                                 y_col='category',\n",
    "                                                 target_size=(IMAGE_SIZE, IMAGE_SIZE),\n",
    "                                                 batch_size=BATCH_SIZE,\n",
    "                                                 class_mode='sparse',\n",
    "                                                 shuffle=False,\n",
    "                                                 interpolation='nearest'\n",
    "                                                )"
   ]
  },
  {
   "cell_type": "code",
   "execution_count": 5,
   "id": "cf262f8e",
   "metadata": {},
   "outputs": [
    {
     "name": "stdout",
     "output_type": "stream",
     "text": [
      "{'anger': 0, 'contempt': 1, 'disgust': 2, 'fear': 3, 'happy': 4, 'neutral': 5, 'sad': 6, 'surprise': 7, 'uncertain': 8}\n",
      "{'anger': 0, 'contempt': 1, 'disgust': 2, 'fear': 3, 'happy': 4, 'neutral': 5, 'sad': 6, 'surprise': 7, 'uncertain': 8}\n"
     ]
    }
   ],
   "source": [
    "# Проверяем правильность присвоения индексов тренировочный генератор\n",
    "print(train_data_gen.class_indices)\n",
    "# Проверяем правильность присвоения индексов тестовый генератор\n",
    "print(val_data_gen.class_indices)"
   ]
  },
  {
   "cell_type": "markdown",
   "id": "3d39f320",
   "metadata": {},
   "source": [
    "#### 1.3. Базовая модель  VGGFace с архитектурой ResNet50 в режиме Feature extracting + BayesianOptimization для полносвязных слоев выхода"
   ]
  },
  {
   "cell_type": "code",
   "execution_count": 12,
   "id": "79bb85a3",
   "metadata": {},
   "outputs": [
    {
     "name": "stdout",
     "output_type": "stream",
     "text": [
      "Trial 20 Complete [00h 15m 49s]\n",
      "val_loss: 1.5523873567581177\n",
      "\n",
      "Best val_loss So Far: 1.5523873567581177\n",
      "Total elapsed time: 05h 18m 39s\n"
     ]
    }
   ],
   "source": [
    "# ПОДБОР Гиперпараметров\n",
    "# Класс MyHyperModel и функция генерации моделей заранее определены \n",
    "# from Builder_tools.Unit_tools import HyperModel, create_model\n",
    "hypermodel = MyHyperModel(base_model=vggfaceResNet50)\n",
    "\n",
    "tuner = BayesianOptimization(\n",
    "    hypermodel,\n",
    "    objective=Objective('val_loss', direction=\"min\"),\n",
    "    max_trials=20,\n",
    "    directory='./',\n",
    "    project_name='best_hyp_par/ResNet50')\n",
    "\n",
    "tuner.search(train_data_gen,\n",
    "             epochs=6, validation_data=val_data_gen)"
   ]
  },
  {
   "cell_type": "code",
   "execution_count": 13,
   "id": "e21c30c1",
   "metadata": {},
   "outputs": [
    {
     "name": "stdout",
     "output_type": "stream",
     "text": [
      "BEST_HYPER_PARAMS: {'units_start': 352, 'activation_start': 'relu', 'num_layers': 1}\n"
     ]
    }
   ],
   "source": [
    "# Получаем лучшие гиперпарамтры для сети\n",
    "best_params = tuner.get_best_hyperparameters()\n",
    "print(f'BEST_HYPER_PARAMS: {best_params[0].values}')"
   ]
  },
  {
   "cell_type": "markdown",
   "id": "5827fb58",
   "metadata": {},
   "source": [
    "#### 1.4. Модель VGGFace с архитектурой ResNet50 с лучшими гиперпараметрами"
   ]
  },
  {
   "cell_type": "code",
   "execution_count": 6,
   "id": "3d5ac950",
   "metadata": {},
   "outputs": [
    {
     "name": "stdout",
     "output_type": "stream",
     "text": [
      "Model: \"sequential_1\"\n",
      "_________________________________________________________________\n",
      " Layer (type)                Output Shape              Param #   \n",
      "=================================================================\n",
      " model (Functional)          (None, 1, 1, 2048)        23561152  \n",
      "                                                                 \n",
      " flatten (Flatten)           (None, 2048)              0         \n",
      "                                                                 \n",
      " dense (Dense)               (None, 352)               721248    \n",
      "                                                                 \n",
      " batch_normalization (Batch  (None, 352)               1408      \n",
      " Normalization)                                                  \n",
      "                                                                 \n",
      " activation_1 (Activation)   (None, 352)               0         \n",
      "                                                                 \n",
      " dropout (Dropout)           (None, 352)               0         \n",
      "                                                                 \n",
      " dense_1 (Dense)             (None, 176)               62128     \n",
      "                                                                 \n",
      " batch_normalization_1 (Bat  (None, 176)               704       \n",
      " chNormalization)                                                \n",
      "                                                                 \n",
      " activation_2 (Activation)   (None, 176)               0         \n",
      "                                                                 \n",
      " dropout_1 (Dropout)         (None, 176)               0         \n",
      "                                                                 \n",
      " dense_2 (Dense)             (None, 9)                 1593      \n",
      "                                                                 \n",
      "=================================================================\n",
      "Total params: 24348233 (92.88 MB)\n",
      "Trainable params: 6301289 (24.04 MB)\n",
      "Non-trainable params: 18046944 (68.84 MB)\n",
      "_________________________________________________________________\n"
     ]
    }
   ],
   "source": [
    "# Размораживаем все слои базовой модели\n",
    "vggfaceResNet50.trainable = True\n",
    "\n",
    "# Оставляем только последние 15 слоев\n",
    "for i_layer in vggfaceResNet50.layers[:-15]:\n",
    "    i_layer.trainable = False\n",
    "\n",
    "model = create_model(\n",
    "    base_model=vggfaceResNet50,\n",
    "    start_units=352,\n",
    "    activation_ch = 'relu', \n",
    "    num_layers_start= 1,\n",
    "    dropout_rate = 0.25\n",
    "    )\n",
    "\n",
    "\n",
    "model.build(input_shape=(None, 224, 224, 3))\n",
    "model.summary()"
   ]
  },
  {
   "cell_type": "code",
   "execution_count": 8,
   "id": "c733a4cc",
   "metadata": {},
   "outputs": [],
   "source": [
    "# Компиляция модели\n",
    "checkpoint = ModelCheckpoint('./check_points/ResNet50/VGGFace',\n",
    "                             verbose=1,\n",
    "                             save_best_only=True,\n",
    "                             save_weights_only=True,\n",
    "                             monitor='val_loss')\n",
    "\n",
    "# Будем использовать оптимизатор Адам с динамическим изменением скорости обучения\n",
    "lr_schedule = tf.keras.optimizers.schedules.ExponentialDecay(\n",
    "    initial_learning_rate=5e-4,\n",
    "    decay_steps=300,\n",
    "    decay_rate=0.9)\n",
    "\n",
    "model.compile(loss=tf.keras.losses.SparseCategoricalCrossentropy(from_logits=True),\n",
    "              optimizer=keras.optimizers.Adam(learning_rate=lr_schedule),\n",
    "              metrics=[tf.keras.metrics.SparseCategoricalAccuracy()])\n"
   ]
  },
  {
   "cell_type": "code",
   "execution_count": 9,
   "id": "ebef716d",
   "metadata": {},
   "outputs": [
    {
     "data": {
      "image/png": "[encoded data removed]",
      "text/plain": [
       "<Figure size 1200x800 with 2 Axes>"
      ]
     },
     "metadata": {},
     "output_type": "display_data"
    },
    {
     "name": "stdout",
     "output_type": "stream",
     "text": [
      "Loss\n",
      "\ttraining         \t (min:    1.389, max:    1.770, cur:    1.395)\n",
      "\tvalidation       \t (min:    1.413, max:    1.514, cur:    1.413)\n",
      "sparse_categorical_accuracy\n",
      "\ttraining         \t (min:    0.368, max:    0.499, cur:    0.495)\n",
      "\tvalidation       \t (min:    0.446, max:    0.492, cur:    0.491)\n",
      "\b\b\b\b\b\b\b\b\b\b\b\b\b\b\b\b\b\b\b\b\b\b\b\b\b\b\b\b\b\b\b\b\b\b\b\b\b\b\b\b\b\b\b\b\b\b\b\b\b\b\b\b\b\b\b\b\b\b\b\b\b\b\b\b\b\b\b\b\b\b\b\b\b\b\b\b\b\b\b\b\b\b\b\b\b\b\b\b\b\b\b\b\b\b\b\b\b\b\b\b\b\b\b\b\b\r",
      "3273/3273 [==============================] - 405s 124ms/step - loss: 1.3950 - sparse_categorical_accuracy: 0.4953 - val_loss: 1.4134 - val_sparse_categorical_accuracy: 0.4915\n"
     ]
    }
   ],
   "source": [
    "# Обучение модели\n",
    "EPOCHS = 10\n",
    "history = model.fit(train_data_gen, epochs=EPOCHS, validation_data=val_data_gen,\n",
    "                    callbacks=[checkpoint, PlotLossesCallback()])"
   ]
  },
  {
   "cell_type": "code",
   "execution_count": 10,
   "id": "df6bfb48",
   "metadata": {},
   "outputs": [
    {
     "name": "stdout",
     "output_type": "stream",
     "text": [
      "INFO:tensorflow:Assets written to: ./saved_models/VGG_ResNet50/assets\n"
     ]
    },
    {
     "name": "stderr",
     "output_type": "stream",
     "text": [
      "INFO:tensorflow:Assets written to: ./saved_models/VGG_ResNet50/assets\n"
     ]
    }
   ],
   "source": [
    "# Загружаем лучшие веса\n",
    "model.load_weights('./check_points/ResNet50/VGGFace')\n",
    "# Сохраняем модель \n",
    "model.save('./saved_models/VGG_ResNet50')"
   ]
  },
  {
   "cell_type": "code",
   "execution_count": 12,
   "id": "4d59ea23",
   "metadata": {},
   "outputs": [
    {
     "name": "stdout",
     "output_type": "stream",
     "text": [
      "579/579 [==============================] - 24s 42ms/step - loss: 1.4133 - sparse_categorical_accuracy: 0.4910\n"
     ]
    },
    {
     "data": {
      "text/plain": [
       "[1.4133464097976685, 0.4909876585006714]"
      ]
     },
     "execution_count": 12,
     "metadata": {},
     "output_type": "execute_result"
    }
   ],
   "source": [
    "# Протестируем модель\n",
    "model.evaluate(val_data_gen)"
   ]
  },
  {
   "cell_type": "markdown",
   "id": "ac36f7f9",
   "metadata": {},
   "source": [
    "### 2. VGGFace на базе VGG16"
   ]
  },
  {
   "cell_type": "markdown",
   "id": "91e68e3c",
   "metadata": {},
   "source": [
    "####  2.1. Зазгузка базовой модели VGGFace архитектуры VGG16"
   ]
  },
  {
   "cell_type": "code",
   "execution_count": 13,
   "id": "aee6aa7f",
   "metadata": {},
   "outputs": [
    {
     "name": "stderr",
     "output_type": "stream",
     "text": [
      "Downloading...\n",
      "From: https://github.com/rcmalli/keras-vggface/releases/download/v2.0/rcmalli_vggface_tf_notop_vgg16.h5\n",
      "To: /media/vision/Локальный диск/Study/Diplom_2/rcmalli_vggface_tf_notop_vgg16.h5\n",
      "100%|██████████████████████████████████████| 58.9M/58.9M [18:07<00:00, 54.2kB/s]\n"
     ]
    },
    {
     "data": {
      "text/plain": [
       "'rcmalli_vggface_tf_notop_vgg16.h5'"
      ]
     },
     "execution_count": 13,
     "metadata": {},
     "output_type": "execute_result"
    }
   ],
   "source": [
    "# Загрузим веса модели VGGFace на архитектуре VGG16\n",
    "url = 'https://github.com/rcmalli/keras-vggface/releases/download/v2.0/rcmalli_vggface_tf_notop_vgg16.h5'\n",
    "output = 'rcmalli_vggface_tf_notop_vgg16.h5'\n",
    "gdown.download(url, output, quiet=False)\n"
   ]
  },
  {
   "cell_type": "code",
   "execution_count": 13,
   "id": "4f09fb72",
   "metadata": {},
   "outputs": [
    {
     "name": "stdout",
     "output_type": "stream",
     "text": [
      "Model: \"vgg16\"\n",
      "_________________________________________________________________\n",
      " Layer (type)                Output Shape              Param #   \n",
      "=================================================================\n",
      " input_1 (InputLayer)        [(None, 224, 224, 3)]     0         \n",
      "                                                                 \n",
      " block1_conv1 (Conv2D)       (None, 224, 224, 64)      1792      \n",
      "                                                                 \n",
      " block1_conv2 (Conv2D)       (None, 224, 224, 64)      36928     \n",
      "                                                                 \n",
      " block1_pool (MaxPooling2D)  (None, 112, 112, 64)      0         \n",
      "                                                                 \n",
      " block2_conv1 (Conv2D)       (None, 112, 112, 128)     73856     \n",
      "                                                                 \n",
      " block2_conv2 (Conv2D)       (None, 112, 112, 128)     147584    \n",
      "                                                                 \n",
      " block2_pool (MaxPooling2D)  (None, 56, 56, 128)       0         \n",
      "                                                                 \n",
      " block3_conv1 (Conv2D)       (None, 56, 56, 256)       295168    \n",
      "                                                                 \n",
      " block3_conv2 (Conv2D)       (None, 56, 56, 256)       590080    \n",
      "                                                                 \n",
      " block3_conv3 (Conv2D)       (None, 56, 56, 256)       590080    \n",
      "                                                                 \n",
      " block3_pool (MaxPooling2D)  (None, 28, 28, 256)       0         \n",
      "                                                                 \n",
      " block4_conv1 (Conv2D)       (None, 28, 28, 512)       1180160   \n",
      "                                                                 \n",
      " block4_conv2 (Conv2D)       (None, 28, 28, 512)       2359808   \n",
      "                                                                 \n",
      " block4_conv3 (Conv2D)       (None, 28, 28, 512)       2359808   \n",
      "                                                                 \n",
      " block4_pool (MaxPooling2D)  (None, 14, 14, 512)       0         \n",
      "                                                                 \n",
      " block5_conv1 (Conv2D)       (None, 14, 14, 512)       2359808   \n",
      "                                                                 \n",
      " block5_conv2 (Conv2D)       (None, 14, 14, 512)       2359808   \n",
      "                                                                 \n",
      " block5_conv3 (Conv2D)       (None, 14, 14, 512)       2359808   \n",
      "                                                                 \n",
      " block5_pool (MaxPooling2D)  (None, 7, 7, 512)         0         \n",
      "                                                                 \n",
      "=================================================================\n",
      "Total params: 14714688 (56.13 MB)\n",
      "Trainable params: 0 (0.00 Byte)\n",
      "Non-trainable params: 14714688 (56.13 MB)\n",
      "_________________________________________________________________\n"
     ]
    }
   ],
   "source": [
    "# Инициализируем модель\n",
    "vggface16_model = VGG16(weights='rcmalli_vggface_tf_notop_vgg16.h5',\n",
    "     include_top=False,\n",
    "     input_shape=(224,224,3))\n",
    "\n",
    "vggface16_model.trainable = False\n",
    "vggface16_model.summary()"
   ]
  },
  {
   "cell_type": "markdown",
   "id": "daea54b5",
   "metadata": {},
   "source": [
    "####  2.2. Создание генераторов для обучающих и тестовых данных"
   ]
  },
  {
   "cell_type": "code",
   "execution_count": 24,
   "id": "dc62fa92",
   "metadata": {},
   "outputs": [
    {
     "name": "stdout",
     "output_type": "stream",
     "text": [
      "Found 45813 validated image filenames belonging to 9 classes.\n",
      "Found 8100 validated image filenames belonging to 9 classes.\n"
     ]
    }
   ],
   "source": [
    "BATCH_SIZE = 14\n",
    "IMAGE_SIZE = 224\n",
    "\n",
    "\n",
    "# Функция препроцессинга на вход тензор размера (1, H, W, 3) + аугментации\n",
    "train_generator = ImageDataGenerator(rotation_range=15,\n",
    "                                     horizontal_flip=True,\n",
    "                                     fill_mode='nearest',\n",
    "                                     brightness_range=(0.5,1.5),\n",
    "                                     shear_range=0.1,\n",
    "                                     zoom_range=.1,\n",
    "                                     preprocessing_function=preprocess_input_VGG16 # Препроцессинг для VGG16\n",
    "                                    ) \n",
    "\n",
    "# train generator\n",
    "train_data_gen = train_generator.flow_from_dataframe(dataframe=train_df,\n",
    "                                                     x_col='path',\n",
    "                                                     y_col='category',\n",
    "                                                     target_size=(IMAGE_SIZE, IMAGE_SIZE),\n",
    "                                                     batch_size=BATCH_SIZE,\n",
    "                                                     class_mode='sparse',\n",
    "                                                     shuffle=True,\n",
    "                                                     interpolation='nearest'\n",
    "                                                    )\n",
    "\n",
    "# validation generator\n",
    "val_generator = ImageDataGenerator(preprocessing_function=preprocess_input_VGG16)\n",
    "\n",
    "val_data_gen = val_generator.flow_from_dataframe(dataframe=test_df,\n",
    "                                                 x_col='path',\n",
    "                                                 y_col='category',\n",
    "                                                 target_size=(IMAGE_SIZE, IMAGE_SIZE),\n",
    "                                                 batch_size=BATCH_SIZE,\n",
    "                                                 class_mode='sparse',\n",
    "                                                 shuffle=False,\n",
    "                                                 interpolation='nearest'\n",
    "                                                )"
   ]
  },
  {
   "cell_type": "code",
   "execution_count": 15,
   "id": "5da9e8e7",
   "metadata": {},
   "outputs": [
    {
     "name": "stdout",
     "output_type": "stream",
     "text": [
      "{'anger': 0, 'contempt': 1, 'disgust': 2, 'fear': 3, 'happy': 4, 'neutral': 5, 'sad': 6, 'surprise': 7, 'uncertain': 8}\n",
      "{'anger': 0, 'contempt': 1, 'disgust': 2, 'fear': 3, 'happy': 4, 'neutral': 5, 'sad': 6, 'surprise': 7, 'uncertain': 8}\n"
     ]
    }
   ],
   "source": [
    "# Проверяем правильность присвоения индексов тренировочный генератор\n",
    "print(train_data_gen.class_indices)\n",
    "# Проверяем правильность присвоения индексов тестовый генератор\n",
    "print(val_data_gen.class_indices)"
   ]
  },
  {
   "cell_type": "markdown",
   "id": "1d1f37c5",
   "metadata": {},
   "source": [
    "#### 2.3. Базовая модель  VGGFace с архитектурой VGG16 в режиме Feature extracting + BayesianOptimization для полносвязных слоев выхода"
   ]
  },
  {
   "cell_type": "code",
   "execution_count": 24,
   "id": "7610ec7f",
   "metadata": {},
   "outputs": [
    {
     "name": "stdout",
     "output_type": "stream",
     "text": [
      "Trial 20 Complete [00h 21m 17s]\n",
      "val_loss: 1.597074270248413\n",
      "\n",
      "Best val_loss So Far: 1.5425471067428589\n",
      "Total elapsed time: 07h 05m 02s\n"
     ]
    }
   ],
   "source": [
    "# ПОДБОР Гиперпараметров\n",
    "hypermodel = MyHyperModel(base_model=vggface16_model)\n",
    "\n",
    "tuner = BayesianOptimization(\n",
    "    hypermodel,\n",
    "    objective=Objective('val_loss', direction=\"min\"),\n",
    "    max_trials=20,\n",
    "    directory='./',\n",
    "    project_name='best_hyp_par/VGG16')\n",
    "\n",
    "tuner.search(train_data_gen,\n",
    "             epochs=6, validation_data=val_data_gen)"
   ]
  },
  {
   "cell_type": "code",
   "execution_count": 25,
   "id": "d495d2cc",
   "metadata": {},
   "outputs": [
    {
     "name": "stdout",
     "output_type": "stream",
     "text": [
      "BEST_HYPER_PARAMS: {'units_start': 288, 'activation_start': 'relu', 'num_layers': 2}\n"
     ]
    }
   ],
   "source": [
    "# Получаем лучшие гиперпарамтры для сети\n",
    "best_params = tuner.get_best_hyperparameters()\n",
    "print(f'BEST_HYPER_PARAMS: {best_params[0].values}')"
   ]
  },
  {
   "cell_type": "code",
   "execution_count": 26,
   "id": "8dd9745c",
   "metadata": {},
   "outputs": [
    {
     "name": "stdout",
     "output_type": "stream",
     "text": [
      "Model: \"vgg16\"\n",
      "_________________________________________________________________\n",
      " Layer (type)                Output Shape              Param #   \n",
      "=================================================================\n",
      " input_3 (InputLayer)        [(None, 224, 224, 3)]     0         \n",
      "                                                                 \n",
      " block1_conv1 (Conv2D)       (None, 224, 224, 64)      1792      \n",
      "                                                                 \n",
      " block1_conv2 (Conv2D)       (None, 224, 224, 64)      36928     \n",
      "                                                                 \n",
      " block1_pool (MaxPooling2D)  (None, 112, 112, 64)      0         \n",
      "                                                                 \n",
      " block2_conv1 (Conv2D)       (None, 112, 112, 128)     73856     \n",
      "                                                                 \n",
      " block2_conv2 (Conv2D)       (None, 112, 112, 128)     147584    \n",
      "                                                                 \n",
      " block2_pool (MaxPooling2D)  (None, 56, 56, 128)       0         \n",
      "                                                                 \n",
      " block3_conv1 (Conv2D)       (None, 56, 56, 256)       295168    \n",
      "                                                                 \n",
      " block3_conv2 (Conv2D)       (None, 56, 56, 256)       590080    \n",
      "                                                                 \n",
      " block3_conv3 (Conv2D)       (None, 56, 56, 256)       590080    \n",
      "                                                                 \n",
      " block3_pool (MaxPooling2D)  (None, 28, 28, 256)       0         \n",
      "                                                                 \n",
      " block4_conv1 (Conv2D)       (None, 28, 28, 512)       1180160   \n",
      "                                                                 \n",
      " block4_conv2 (Conv2D)       (None, 28, 28, 512)       2359808   \n",
      "                                                                 \n",
      " block4_conv3 (Conv2D)       (None, 28, 28, 512)       2359808   \n",
      "                                                                 \n",
      " block4_pool (MaxPooling2D)  (None, 14, 14, 512)       0         \n",
      "                                                                 \n",
      " block5_conv1 (Conv2D)       (None, 14, 14, 512)       2359808   \n",
      "                                                                 \n",
      " block5_conv2 (Conv2D)       (None, 14, 14, 512)       2359808   \n",
      "                                                                 \n",
      " block5_conv3 (Conv2D)       (None, 14, 14, 512)       2359808   \n",
      "                                                                 \n",
      " block5_pool (MaxPooling2D)  (None, 7, 7, 512)         0         \n",
      "                                                                 \n",
      "=================================================================\n",
      "Total params: 14714688 (56.13 MB)\n",
      "Trainable params: 0 (0.00 Byte)\n",
      "Non-trainable params: 14714688 (56.13 MB)\n",
      "_________________________________________________________________\n"
     ]
    }
   ],
   "source": [
    "vggface16_model.summary()"
   ]
  },
  {
   "cell_type": "markdown",
   "id": "7bc204ee",
   "metadata": {},
   "source": [
    "#### 2.4. Модель VGGFace с архитектурой VGG16 с лучшими гиперпараметрами"
   ]
  },
  {
   "cell_type": "code",
   "execution_count": 25,
   "id": "db9005b4",
   "metadata": {},
   "outputs": [
    {
     "name": "stdout",
     "output_type": "stream",
     "text": [
      "Model: \"sequential_5\"\n",
      "_________________________________________________________________\n",
      " Layer (type)                Output Shape              Param #   \n",
      "=================================================================\n",
      " vgg16 (Functional)          (None, 7, 7, 512)         14714688  \n",
      "                                                                 \n",
      " flatten_4 (Flatten)         (None, 25088)             0         \n",
      "                                                                 \n",
      " dense_15 (Dense)            (None, 288)               7225632   \n",
      "                                                                 \n",
      " batch_normalization_11 (Ba  (None, 288)               1152      \n",
      " tchNormalization)                                               \n",
      "                                                                 \n",
      " activation_12 (Activation)  (None, 288)               0         \n",
      "                                                                 \n",
      " dropout_11 (Dropout)        (None, 288)               0         \n",
      "                                                                 \n",
      " dense_16 (Dense)            (None, 144)               41616     \n",
      "                                                                 \n",
      " batch_normalization_12 (Ba  (None, 144)               576       \n",
      " tchNormalization)                                               \n",
      "                                                                 \n",
      " activation_13 (Activation)  (None, 144)               0         \n",
      "                                                                 \n",
      " dropout_12 (Dropout)        (None, 144)               0         \n",
      "                                                                 \n",
      " dense_17 (Dense)            (None, 72)                10440     \n",
      "                                                                 \n",
      " batch_normalization_13 (Ba  (None, 72)                288       \n",
      " tchNormalization)                                               \n",
      "                                                                 \n",
      " activation_14 (Activation)  (None, 72)                0         \n",
      "                                                                 \n",
      " dropout_13 (Dropout)        (None, 72)                0         \n",
      "                                                                 \n",
      " dense_18 (Dense)            (None, 9)                 657       \n",
      "                                                                 \n",
      "=================================================================\n",
      "Total params: 21995049 (83.90 MB)\n",
      "Trainable params: 14358777 (54.77 MB)\n",
      "Non-trainable params: 7636272 (29.13 MB)\n",
      "_________________________________________________________________\n"
     ]
    }
   ],
   "source": [
    "# Размораживаем все слои базовой модели\n",
    "vggface16_model.trainable = True\n",
    "\n",
    "# Оставляем только последние 4 слоя\n",
    "for i_layer in vggface16_model.layers[:-4]:\n",
    "    i_layer.trainable = False\n",
    "\n",
    "model = create_model(\n",
    "    base_model=vggface16_model,\n",
    "    start_units=288,\n",
    "    activation_ch = 'relu', \n",
    "    num_layers_start= 2,\n",
    "    dropout_rate = 0.25\n",
    "    )\n",
    "\n",
    "model.build(input_shape=(None, 224, 224, 3))\n",
    "model.summary()"
   ]
  },
  {
   "cell_type": "code",
   "execution_count": 26,
   "id": "4a7f1d06",
   "metadata": {},
   "outputs": [],
   "source": [
    "# Компиляция модели\n",
    "checkpoint = ModelCheckpoint('./check_points/VGG16/VGGFace',\n",
    "                             verbose=1,\n",
    "                             save_best_only=True,\n",
    "                             save_weights_only=True,\n",
    "                             monitor='val_loss')\n",
    "\n",
    "# Будем использовать оптимизатор Адам с динамическим изменением скорости обучения\n",
    "lr_schedule = tf.keras.optimizers.schedules.ExponentialDecay(\n",
    "    initial_learning_rate=5e-4,\n",
    "    decay_steps=450,\n",
    "    decay_rate=0.9)\n",
    "\n",
    "model.compile(loss=tf.keras.losses.SparseCategoricalCrossentropy(from_logits=True),\n",
    "              optimizer=keras.optimizers.Adam(learning_rate=lr_schedule),\n",
    "              metrics=[tf.keras.metrics.SparseCategoricalAccuracy()])\n"
   ]
  },
  {
   "cell_type": "code",
   "execution_count": 27,
   "id": "640919e4",
   "metadata": {},
   "outputs": [
    {
     "data": {
      "image/png": "[encoded data removed]",
      "text/plain": [
       "<Figure size 1200x800 with 2 Axes>"
      ]
     },
     "metadata": {},
     "output_type": "display_data"
    },
    {
     "name": "stdout",
     "output_type": "stream",
     "text": [
      "Loss\n",
      "\ttraining         \t (min:    1.319, max:    1.627, cur:    1.324)\n",
      "\tvalidation       \t (min:    1.318, max:    1.458, cur:    1.318)\n",
      "sparse_categorical_accuracy\n",
      "\ttraining         \t (min:    0.422, max:    0.536, cur:    0.534)\n",
      "\tvalidation       \t (min:    0.477, max:    0.523, cur:    0.521)\n",
      "\b\b\b\b\b\b\b\b\b\b\b\b\b\b\b\b\b\b\b\b\b\b\b\b\b\b\b\b\b\b\b\b\b\b\b\b\b\b\b\b\b\b\b\b\b\b\b\b\b\b\b\b\b\b\b\b\b\b\b\b\b\b\b\b\b\b\b\b\b\b\b\b\b\b\b\b\b\b\b\b\b\b\b\b\b\b\b\b\b\b\b\b\b\b\b\b\b\b\b\b\b\b\b\b\b\r",
      "3273/3273 [==============================] - 426s 130ms/step - loss: 1.3236 - sparse_categorical_accuracy: 0.5340 - val_loss: 1.3181 - val_sparse_categorical_accuracy: 0.5209\n"
     ]
    }
   ],
   "source": [
    "# Обучение модели\n",
    "EPOCHS = 10\n",
    "history = model.fit(train_data_gen, epochs=EPOCHS, validation_data=val_data_gen,\n",
    "                    callbacks=[checkpoint, PlotLossesCallback()])"
   ]
  },
  {
   "cell_type": "code",
   "execution_count": 32,
   "id": "fa61ce96",
   "metadata": {},
   "outputs": [
    {
     "name": "stdout",
     "output_type": "stream",
     "text": [
      "INFO:tensorflow:Assets written to: ./saved_models/VGG16/assets\n"
     ]
    },
    {
     "name": "stderr",
     "output_type": "stream",
     "text": [
      "INFO:tensorflow:Assets written to: ./saved_models/VGG16/assets\n"
     ]
    }
   ],
   "source": [
    "# Загружаем лучшие веса\n",
    "model.load_weights('./check_points/VGG16/VGGFace')\n",
    "# Сохраняем модель \n",
    "model.save('./saved_models/VGG16')"
   ]
  },
  {
   "cell_type": "code",
   "execution_count": 30,
   "id": "e544eaf4",
   "metadata": {},
   "outputs": [
    {
     "name": "stdout",
     "output_type": "stream",
     "text": [
      "579/579 [==============================] - 37s 63ms/step - loss: 1.3181 - sparse_categorical_accuracy: 0.5209\n"
     ]
    },
    {
     "data": {
      "text/plain": [
       "[1.3181049823760986, 0.5208641886711121]"
      ]
     },
     "execution_count": 30,
     "metadata": {},
     "output_type": "execute_result"
    }
   ],
   "source": [
    "# Протестируем модель\n",
    "model.evaluate(val_data_gen)"
   ]
  }
 ],
 "metadata": {
  "kernelspec": {
   "display_name": "Python 3 (ipykernel)",
   "language": "python",
   "name": "python3"
  },
  "language_info": {
   "codemirror_mode": {
    "name": "ipython",
    "version": 3
   },
   "file_extension": ".py",
   "mimetype": "text/x-python",
   "name": "python",
   "nbconvert_exporter": "python",
   "pygments_lexer": "ipython3",
   "version": "3.10.13"
  }
 },
 "nbformat": 4,
 "nbformat_minor": 5
}
